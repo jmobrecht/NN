{
 "cells": [
  {
   "cell_type": "markdown",
   "metadata": {},
   "source": [
    "## Import libraries & File location"
   ]
  },
  {
   "cell_type": "code",
   "execution_count": 1,
   "metadata": {},
   "outputs": [
    {
     "name": "stderr",
     "output_type": "stream",
     "text": [
      "/Users/jmobrecht/anaconda3/lib/python3.6/site-packages/h5py/__init__.py:36: FutureWarning: Conversion of the second argument of issubdtype from `float` to `np.floating` is deprecated. In future, it will be treated as `np.float64 == np.dtype(float).type`.\n",
      "  from ._conv import register_converters as _register_converters\n"
     ]
    }
   ],
   "source": [
    "%matplotlib inline\n",
    "import tensorflow as tf\n",
    "import numpy as np\n",
    "import matplotlib.pyplot as plt\n",
    "import pandas as pd"
   ]
  },
  {
   "cell_type": "code",
   "execution_count": 2,
   "metadata": {},
   "outputs": [
    {
     "name": "stdout",
     "output_type": "stream",
     "text": [
      "/Users/jmobrecht/GitHub/NN/listdata.csv\n"
     ]
    }
   ],
   "source": [
    "folder = '/Users/jmobrecht/GitHub/NN'\n",
    "file = 'listdata.csv'\n",
    "path = folder + '/' + file\n",
    "print(path)\n",
    "\n",
    "my_data = pd.read_csv(path)"
   ]
  },
  {
   "cell_type": "markdown",
   "metadata": {},
   "source": [
    "## Define Variables"
   ]
  },
  {
   "cell_type": "code",
   "execution_count": 21,
   "metadata": {},
   "outputs": [],
   "source": [
    "nrowsTot = np.size(my_data,0)\n",
    "ncolsTot = np.size(my_data,1)"
   ]
  },
  {
   "cell_type": "code",
   "execution_count": 69,
   "metadata": {},
   "outputs": [
    {
     "data": {
      "text/html": [
       "<div>\n",
       "<style scoped>\n",
       "    .dataframe tbody tr th:only-of-type {\n",
       "        vertical-align: middle;\n",
       "    }\n",
       "\n",
       "    .dataframe tbody tr th {\n",
       "        vertical-align: top;\n",
       "    }\n",
       "\n",
       "    .dataframe thead th {\n",
       "        text-align: right;\n",
       "    }\n",
       "</style>\n",
       "<table border=\"1\" class=\"dataframe\">\n",
       "  <thead>\n",
       "    <tr style=\"text-align: right;\">\n",
       "      <th></th>\n",
       "      <th>AEP1</th>\n",
       "      <th>AEP2</th>\n",
       "      <th>AEP3</th>\n",
       "      <th>AEP4</th>\n",
       "      <th>AEP5</th>\n",
       "      <th>AEP6</th>\n",
       "      <th>AEP7</th>\n",
       "      <th>AEP8</th>\n",
       "      <th>AEP9</th>\n",
       "      <th>AEP10</th>\n",
       "      <th>AEP11</th>\n",
       "      <th>AEP12</th>\n",
       "      <th>AEP13</th>\n",
       "    </tr>\n",
       "  </thead>\n",
       "  <tbody>\n",
       "    <tr>\n",
       "      <th>0</th>\n",
       "      <td>4008.3</td>\n",
       "      <td>4953.3</td>\n",
       "      <td>5884.7</td>\n",
       "      <td>6777.6</td>\n",
       "      <td>7616.5</td>\n",
       "      <td>8393.2</td>\n",
       "      <td>9103.4</td>\n",
       "      <td>9745.4</td>\n",
       "      <td>10318</td>\n",
       "      <td>10823</td>\n",
       "      <td>11258</td>\n",
       "      <td>11627</td>\n",
       "      <td>11929</td>\n",
       "    </tr>\n",
       "    <tr>\n",
       "      <th>1</th>\n",
       "      <td>4033.5</td>\n",
       "      <td>4985.7</td>\n",
       "      <td>5922.9</td>\n",
       "      <td>6820.0</td>\n",
       "      <td>7661.9</td>\n",
       "      <td>8440.2</td>\n",
       "      <td>9151.1</td>\n",
       "      <td>9792.9</td>\n",
       "      <td>10365</td>\n",
       "      <td>10868</td>\n",
       "      <td>11303</td>\n",
       "      <td>11670</td>\n",
       "      <td>11971</td>\n",
       "    </tr>\n",
       "    <tr>\n",
       "      <th>2</th>\n",
       "      <td>4044.7</td>\n",
       "      <td>5000.1</td>\n",
       "      <td>5940.0</td>\n",
       "      <td>6839.1</td>\n",
       "      <td>7682.3</td>\n",
       "      <td>8461.4</td>\n",
       "      <td>9172.6</td>\n",
       "      <td>9814.4</td>\n",
       "      <td>10387</td>\n",
       "      <td>10889</td>\n",
       "      <td>11323</td>\n",
       "      <td>11689</td>\n",
       "      <td>11989</td>\n",
       "    </tr>\n",
       "    <tr>\n",
       "      <th>3</th>\n",
       "      <td>4048.8</td>\n",
       "      <td>5005.6</td>\n",
       "      <td>5946.5</td>\n",
       "      <td>6846.4</td>\n",
       "      <td>7690.2</td>\n",
       "      <td>8469.6</td>\n",
       "      <td>9181.0</td>\n",
       "      <td>9822.8</td>\n",
       "      <td>10395</td>\n",
       "      <td>10897</td>\n",
       "      <td>11331</td>\n",
       "      <td>11697</td>\n",
       "      <td>11997</td>\n",
       "    </tr>\n",
       "    <tr>\n",
       "      <th>4</th>\n",
       "      <td>4049.5</td>\n",
       "      <td>5006.4</td>\n",
       "      <td>5947.5</td>\n",
       "      <td>6847.5</td>\n",
       "      <td>7691.4</td>\n",
       "      <td>8470.9</td>\n",
       "      <td>9182.3</td>\n",
       "      <td>9824.1</td>\n",
       "      <td>10396</td>\n",
       "      <td>10899</td>\n",
       "      <td>11332</td>\n",
       "      <td>11698</td>\n",
       "      <td>11998</td>\n",
       "    </tr>\n",
       "  </tbody>\n",
       "</table>\n",
       "</div>"
      ],
      "text/plain": [
       "     AEP1    AEP2    AEP3    AEP4    AEP5    AEP6    AEP7    AEP8   AEP9  \\\n",
       "0  4008.3  4953.3  5884.7  6777.6  7616.5  8393.2  9103.4  9745.4  10318   \n",
       "1  4033.5  4985.7  5922.9  6820.0  7661.9  8440.2  9151.1  9792.9  10365   \n",
       "2  4044.7  5000.1  5940.0  6839.1  7682.3  8461.4  9172.6  9814.4  10387   \n",
       "3  4048.8  5005.6  5946.5  6846.4  7690.2  8469.6  9181.0  9822.8  10395   \n",
       "4  4049.5  5006.4  5947.5  6847.5  7691.4  8470.9  9182.3  9824.1  10396   \n",
       "\n",
       "   AEP10  AEP11  AEP12  AEP13  \n",
       "0  10823  11258  11627  11929  \n",
       "1  10868  11303  11670  11971  \n",
       "2  10889  11323  11689  11989  \n",
       "3  10897  11331  11697  11997  \n",
       "4  10899  11332  11698  11998  "
      ]
     },
     "execution_count": 69,
     "metadata": {},
     "output_type": "execute_result"
    }
   ],
   "source": [
    "dataInput  = my_data.iloc[:,0:13] # dataframes\n",
    "dataTarget = my_data.iloc[:,13:36]\n",
    "dataOther  = my_data.iloc[:,36:40]\n",
    "\n",
    "ncolsInput  = np.size(dataInput,1)\n",
    "nrowsTarget = np.size(dataTarget,1)\n",
    "nrowsOther  = np.size(dataOther,1)\n",
    "\n",
    "dataInput.head()"
   ]
  },
  {
   "cell_type": "code",
   "execution_count": 71,
   "metadata": {},
   "outputs": [],
   "source": [
    "dataInput2, dataTarget2, dataOther2 = tf.split(my_data,[13,23,4],1) # tensors"
   ]
  },
  {
   "cell_type": "code",
   "execution_count": 8,
   "metadata": {},
   "outputs": [
    {
     "name": "stdout",
     "output_type": "stream",
     "text": [
      "[ 5.   5.5  6.   6.5  7.   7.5  8.   8.5  9.   9.5 10.  10.5 11. ]\n"
     ]
    },
    {
     "data": {
      "text/plain": [
       "13"
      ]
     },
     "execution_count": 8,
     "metadata": {},
     "output_type": "execute_result"
    }
   ],
   "source": [
    "arrMeanWind = np.arange(5.0,11.5,0.5)\n",
    "print(arrMeanWind)\n",
    "np.size(arrMeanWind)"
   ]
  },
  {
   "cell_type": "code",
   "execution_count": 9,
   "metadata": {},
   "outputs": [
    {
     "name": "stdout",
     "output_type": "stream",
     "text": [
      "[ 3.  4.  5.  6.  7.  8.  9. 10. 11. 12. 13. 14. 15. 16. 17. 18. 19. 20.\n",
      " 21. 22. 23. 24. 25.]\n"
     ]
    },
    {
     "data": {
      "text/plain": [
       "23"
      ]
     },
     "execution_count": 9,
     "metadata": {},
     "output_type": "execute_result"
    }
   ],
   "source": [
    "arrPCWind = np.arange(3.0,26.0,1.0)\n",
    "print(arrPCWind)\n",
    "np.size(arrPCWind)"
   ]
  },
  {
   "cell_type": "code",
   "execution_count": 15,
   "metadata": {},
   "outputs": [
    {
     "data": {
      "text/plain": [
       "0    13.022\n",
       "1    13.890\n",
       "2    14.758\n",
       "3    15.626\n",
       "4    16.494\n",
       "Name: RPM, dtype: float64"
      ]
     },
     "execution_count": 15,
     "metadata": {},
     "output_type": "execute_result"
    }
   ],
   "source": [
    "dataOther['RPM'].head()"
   ]
  },
  {
   "cell_type": "markdown",
   "metadata": {},
   "source": [
    "## Split Data into Training & Test"
   ]
  },
  {
   "cell_type": "code",
   "execution_count": 24,
   "metadata": {},
   "outputs": [],
   "source": [
    "X_train = []\n",
    "X_test  = []\n",
    "Y_train = []\n",
    "Y_test  = []\n"
   ]
  },
  {
   "cell_type": "code",
   "execution_count": 62,
   "metadata": {},
   "outputs": [],
   "source": [
    "shuf = np.arange(nrowsTot)\n",
    "np.random.shuffle(shuf)"
   ]
  },
  {
   "cell_type": "code",
   "execution_count": 18,
   "metadata": {},
   "outputs": [
    {
     "ename": "AttributeError",
     "evalue": "module 'tensorflow' has no attribute 'train_split'",
     "output_type": "error",
     "traceback": [
      "\u001b[0;31m---------------------------------------------------------------------------\u001b[0m",
      "\u001b[0;31mAttributeError\u001b[0m                            Traceback (most recent call last)",
      "\u001b[0;32m<ipython-input-18-fb1e4323c315>\u001b[0m in \u001b[0;36m<module>\u001b[0;34m()\u001b[0m\n\u001b[0;32m----> 1\u001b[0;31m \u001b[0mX_train\u001b[0m\u001b[0;34m,\u001b[0m \u001b[0mX_test\u001b[0m\u001b[0;34m,\u001b[0m \u001b[0my_train\u001b[0m\u001b[0;34m,\u001b[0m \u001b[0my_test\u001b[0m \u001b[0;34m=\u001b[0m \u001b[0mtf\u001b[0m\u001b[0;34m.\u001b[0m\u001b[0mtrain_split\u001b[0m\u001b[0;34m(\u001b[0m\u001b[0mdataInput\u001b[0m\u001b[0;34m,\u001b[0m \u001b[0mdataTarget\u001b[0m\u001b[0;34m,\u001b[0m \u001b[0mtest_size\u001b[0m\u001b[0;34m=\u001b[0m\u001b[0;36m0.10\u001b[0m\u001b[0;34m,\u001b[0m \u001b[0mrandom_state\u001b[0m\u001b[0;34m=\u001b[0m\u001b[0;36m42\u001b[0m\u001b[0;34m)\u001b[0m\u001b[0;34m\u001b[0m\u001b[0m\n\u001b[0m",
      "\u001b[0;31mAttributeError\u001b[0m: module 'tensorflow' has no attribute 'train_split'"
     ]
    }
   ],
   "source": [
    "X_train, X_test, y_train, y_test = tf.train_split(dataInput, dataTarget, test_size=0.10, random_state=42)"
   ]
  }
 ],
 "metadata": {
  "kernelspec": {
   "display_name": "Python 3",
   "language": "python",
   "name": "python3"
  },
  "varInspector": {
   "cols": {
    "lenName": 16,
    "lenType": 16,
    "lenVar": 40
   },
   "kernels_config": {
    "python": {
     "delete_cmd_postfix": "",
     "delete_cmd_prefix": "del ",
     "library": "var_list.py",
     "varRefreshCmd": "print(var_dic_list())"
    },
    "r": {
     "delete_cmd_postfix": ") ",
     "delete_cmd_prefix": "rm(",
     "library": "var_list.r",
     "varRefreshCmd": "cat(var_dic_list()) "
    }
   },
   "oldHeight": 449,
   "position": {
    "height": "40px",
    "left": "785px",
    "right": "20px",
    "top": "106px",
    "width": "654px"
   },
   "types_to_exclude": [
    "module",
    "function",
    "builtin_function_or_method",
    "instance",
    "_Feature"
   ],
   "varInspector_section_display": "none",
   "window_display": true
  }
 },
 "nbformat": 4,
 "nbformat_minor": 2
}
